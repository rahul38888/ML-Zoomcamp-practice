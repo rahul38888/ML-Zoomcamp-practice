{
 "cells": [
  {
   "cell_type": "code",
   "execution_count": 1,
   "id": "ec1cc57f-7132-4903-a572-43bf77c3d23a",
   "metadata": {
    "tags": []
   },
   "outputs": [],
   "source": [
    "import pandas as pd\n",
    "import numpy as np\n",
    "\n",
    "import pickle\n",
    "import json"
   ]
  },
  {
   "cell_type": "markdown",
   "id": "9e9eaf3c-ea7b-4ee7-b69b-fbe91e888fe4",
   "metadata": {},
   "source": [
    "#### What's the version of pipenv you installed?\n",
    "`\n",
    "pipenv, version 2023.11.15\n",
    "`"
   ]
  },
  {
   "cell_type": "markdown",
   "id": "0b380a4c-6268-44e2-8a93-8f14ef93ba58",
   "metadata": {
    "tags": []
   },
   "source": [
    "#### What's the first hash for scikit-learn you get in Pipfile.lock?\n",
    "```\n",
    "sha256:0c275a06c5190c5ce00af0acbb61c06374087949f643ef32d355ece12c4db043\n",
    "```"
   ]
  },
  {
   "cell_type": "code",
   "execution_count": 4,
   "id": "86e22457-63b3-4403-81ad-bd157ff2afbe",
   "metadata": {
    "tags": []
   },
   "outputs": [],
   "source": [
    "def load_model_and_dv():\n",
    "    model_file = 'model1.bin'\n",
    "    dv_file = 'dv.bin'\n",
    "    model = None\n",
    "    dv = None\n",
    "    with open(model_file, 'rb') as f:\n",
    "        model = pickle.load(f)\n",
    "    \n",
    "    with open(dv_file, 'rb') as f:\n",
    "        dv = pickle.load(f)\n",
    "    \n",
    "    return model, dv"
   ]
  },
  {
   "cell_type": "code",
   "execution_count": 5,
   "id": "e262259e-96b8-4c07-8708-6d599f2b8fa7",
   "metadata": {
    "tags": []
   },
   "outputs": [
    {
     "name": "stderr",
     "output_type": "stream",
     "text": [
      "D:\\Apps\\anaconda3\\Lib\\site-packages\\sklearn\\base.py:347: InconsistentVersionWarning: Trying to unpickle estimator LogisticRegression from version 1.3.1 when using version 1.3.0. This might lead to breaking code or invalid results. Use at your own risk. For more info please refer to:\n",
      "https://scikit-learn.org/stable/model_persistence.html#security-maintainability-limitations\n",
      "  warnings.warn(\n",
      "D:\\Apps\\anaconda3\\Lib\\site-packages\\sklearn\\base.py:347: InconsistentVersionWarning: Trying to unpickle estimator DictVectorizer from version 1.3.1 when using version 1.3.0. This might lead to breaking code or invalid results. Use at your own risk. For more info please refer to:\n",
      "https://scikit-learn.org/stable/model_persistence.html#security-maintainability-limitations\n",
      "  warnings.warn(\n"
     ]
    }
   ],
   "source": [
    "model, dv = load_model_and_dv()"
   ]
  },
  {
   "cell_type": "code",
   "execution_count": 6,
   "id": "2be25cf0-8f4d-4c51-97e1-d8e44b230e8d",
   "metadata": {
    "tags": []
   },
   "outputs": [],
   "source": [
    "def predict_proba(client):\n",
    "    X = dv.transform(client)\n",
    "    return model.predict_proba(X)[:,1][0]"
   ]
  },
  {
   "cell_type": "code",
   "execution_count": 7,
   "id": "eaf7a61a-3e09-4b32-ba5c-54262a7c246b",
   "metadata": {
    "tags": []
   },
   "outputs": [
    {
     "data": {
      "text/plain": [
       "0.902"
      ]
     },
     "execution_count": 7,
     "metadata": {},
     "output_type": "execute_result"
    }
   ],
   "source": [
    "client = {\"job\": \"retired\", \"duration\": 445, \"poutcome\": \"success\"}\n",
    "round(predict_proba(client), 3)"
   ]
  },
  {
   "cell_type": "markdown",
   "id": "e73f961f-8d0e-4101-853e-4ee19042f369",
   "metadata": {
    "tags": []
   },
   "source": [
    "#### What's the probability that this client will get a credit?\n",
    "\n",
    "* 0.162\n",
    "* 0.392\n",
    "* 0.652\n",
    "* `0.902`"
   ]
  },
  {
   "cell_type": "code",
   "execution_count": 23,
   "id": "22c1a7ca-4c72-470f-b855-867e09029474",
   "metadata": {
    "tags": []
   },
   "outputs": [
    {
     "data": {
      "text/plain": [
       "0.13968947052356817"
      ]
     },
     "execution_count": 23,
     "metadata": {},
     "output_type": "execute_result"
    }
   ],
   "source": [
    "import requests\n",
    "\n",
    "url = \"http://localhost:8823/predict\"\n",
    "client = {\"job\": \"unknown\", \"duration\": 270, \"poutcome\": \"failure\"}\n",
    "requests.post(url, json=client).json()"
   ]
  },
  {
   "cell_type": "markdown",
   "id": "e89d31c2-329d-4df5-9c10-6f3540643bb4",
   "metadata": {},
   "source": [
    "#### What's the probability that this client will get a credit?\n",
    "\n",
    "* `0.140`\n",
    "* 0.440\n",
    "* 0.645\n",
    "* 0.845"
   ]
  },
  {
   "cell_type": "markdown",
   "id": "ed5dbce1-7a0f-459a-86df-5a6061b90873",
   "metadata": {},
   "source": [
    "Download the base image svizor/zoomcamp-model:3.10.12-slim. You can easily make it by using docker pull command.\n",
    "\n",
    "#### So what's the size of this base image?\n",
    "\n",
    "* 47 MB\n",
    "* `147 MB`\n",
    "* 374 MB\n",
    "* 574 MB"
   ]
  },
  {
   "cell_type": "markdown",
   "id": "f1463d20-4b0b-4a7b-b220-e4e37ea71067",
   "metadata": {},
   "source": [
    "### After Docker"
   ]
  },
  {
   "cell_type": "code",
   "execution_count": 31,
   "id": "b4979b3d-7fae-4930-8679-482166f5aa3d",
   "metadata": {
    "tags": []
   },
   "outputs": [
    {
     "data": {
      "text/plain": [
       "0.726936946355423"
      ]
     },
     "execution_count": 31,
     "metadata": {},
     "output_type": "execute_result"
    }
   ],
   "source": [
    "url = \"http://localhost:8823/predict\"\n",
    "client = {\"job\": \"retired\", \"duration\": 445, \"poutcome\": \"success\"}\n",
    "requests.post(url, json=client).json()"
   ]
  },
  {
   "cell_type": "markdown",
   "id": "bbfb506c-a61a-4560-b6de-57908aea090b",
   "metadata": {},
   "source": [
    "#### What's the probability that this client will get a credit now?\n",
    "\n",
    "* 0.168\n",
    "* 0.530\n",
    "* `0.730`\n",
    "* 0.968"
   ]
  }
 ],
 "metadata": {
  "kernelspec": {
   "display_name": "Python 3 (ipykernel)",
   "language": "python",
   "name": "python3"
  },
  "language_info": {
   "codemirror_mode": {
    "name": "ipython",
    "version": 3
   },
   "file_extension": ".py",
   "mimetype": "text/x-python",
   "name": "python",
   "nbconvert_exporter": "python",
   "pygments_lexer": "ipython3",
   "version": "3.11.5"
  }
 },
 "nbformat": 4,
 "nbformat_minor": 5
}
