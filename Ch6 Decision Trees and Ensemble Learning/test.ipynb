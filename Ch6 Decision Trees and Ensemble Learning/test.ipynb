{
 "cells": [
  {
   "cell_type": "code",
   "execution_count": 9,
   "id": "fd9f9511-32d4-42d5-90dc-9fa98c025103",
   "metadata": {
    "tags": []
   },
   "outputs": [],
   "source": [
    "from tqdm.auto import tqdm\n",
    "import pandas as pd\n",
    "import numpy as np"
   ]
  },
  {
   "cell_type": "code",
   "execution_count": 13,
   "id": "8f7cb865-858f-4f3a-a304-35c103ff67ca",
   "metadata": {
    "tags": []
   },
   "outputs": [],
   "source": [
    "tqdm.pandas(desc=\"my bar!\")"
   ]
  },
  {
   "cell_type": "code",
   "execution_count": 15,
   "id": "50f3d5ae-f79a-4ad8-9306-ebf1fa1b05f5",
   "metadata": {
    "tags": []
   },
   "outputs": [
    {
     "data": {
      "application/vnd.jupyter.widget-view+json": {
       "model_id": "2fb404a21aa145738a299b23eea85d6b",
       "version_major": 2,
       "version_minor": 0
      },
      "text/plain": [
       "my bar!:   0%|          | 0/6 [00:00<?, ?it/s]"
      ]
     },
     "metadata": {},
     "output_type": "display_data"
    },
    {
     "data": {
      "text/html": [
       "<div>\n",
       "<style scoped>\n",
       "    .dataframe tbody tr th:only-of-type {\n",
       "        vertical-align: middle;\n",
       "    }\n",
       "\n",
       "    .dataframe tbody tr th {\n",
       "        vertical-align: top;\n",
       "    }\n",
       "\n",
       "    .dataframe thead th {\n",
       "        text-align: right;\n",
       "    }\n",
       "</style>\n",
       "<table border=\"1\" class=\"dataframe\">\n",
       "  <thead>\n",
       "    <tr style=\"text-align: right;\">\n",
       "      <th></th>\n",
       "      <th>0</th>\n",
       "      <th>1</th>\n",
       "      <th>2</th>\n",
       "      <th>3</th>\n",
       "      <th>4</th>\n",
       "      <th>5</th>\n",
       "    </tr>\n",
       "  </thead>\n",
       "  <tbody>\n",
       "    <tr>\n",
       "      <th>0</th>\n",
       "      <td>9801</td>\n",
       "      <td>2809</td>\n",
       "      <td>1296</td>\n",
       "      <td>625</td>\n",
       "      <td>3025</td>\n",
       "      <td>5625</td>\n",
       "    </tr>\n",
       "    <tr>\n",
       "      <th>1</th>\n",
       "      <td>529</td>\n",
       "      <td>7396</td>\n",
       "      <td>9</td>\n",
       "      <td>3025</td>\n",
       "      <td>1444</td>\n",
       "      <td>5041</td>\n",
       "    </tr>\n",
       "    <tr>\n",
       "      <th>2</th>\n",
       "      <td>1</td>\n",
       "      <td>4356</td>\n",
       "      <td>961</td>\n",
       "      <td>7056</td>\n",
       "      <td>2304</td>\n",
       "      <td>25</td>\n",
       "    </tr>\n",
       "    <tr>\n",
       "      <th>3</th>\n",
       "      <td>1764</td>\n",
       "      <td>5625</td>\n",
       "      <td>1936</td>\n",
       "      <td>25</td>\n",
       "      <td>4624</td>\n",
       "      <td>1681</td>\n",
       "    </tr>\n",
       "    <tr>\n",
       "      <th>4</th>\n",
       "      <td>6084</td>\n",
       "      <td>2601</td>\n",
       "      <td>2704</td>\n",
       "      <td>2916</td>\n",
       "      <td>529</td>\n",
       "      <td>225</td>\n",
       "    </tr>\n",
       "    <tr>\n",
       "      <th>...</th>\n",
       "      <td>...</td>\n",
       "      <td>...</td>\n",
       "      <td>...</td>\n",
       "      <td>...</td>\n",
       "      <td>...</td>\n",
       "      <td>...</td>\n",
       "    </tr>\n",
       "    <tr>\n",
       "      <th>99995</th>\n",
       "      <td>6889</td>\n",
       "      <td>2601</td>\n",
       "      <td>2916</td>\n",
       "      <td>400</td>\n",
       "      <td>8836</td>\n",
       "      <td>225</td>\n",
       "    </tr>\n",
       "    <tr>\n",
       "      <th>99996</th>\n",
       "      <td>6084</td>\n",
       "      <td>16</td>\n",
       "      <td>2209</td>\n",
       "      <td>4096</td>\n",
       "      <td>1369</td>\n",
       "      <td>2304</td>\n",
       "    </tr>\n",
       "    <tr>\n",
       "      <th>99997</th>\n",
       "      <td>6241</td>\n",
       "      <td>2809</td>\n",
       "      <td>8836</td>\n",
       "      <td>1764</td>\n",
       "      <td>9604</td>\n",
       "      <td>484</td>\n",
       "    </tr>\n",
       "    <tr>\n",
       "      <th>99998</th>\n",
       "      <td>2401</td>\n",
       "      <td>7056</td>\n",
       "      <td>6400</td>\n",
       "      <td>441</td>\n",
       "      <td>3721</td>\n",
       "      <td>144</td>\n",
       "    </tr>\n",
       "    <tr>\n",
       "      <th>99999</th>\n",
       "      <td>1521</td>\n",
       "      <td>5776</td>\n",
       "      <td>1936</td>\n",
       "      <td>1849</td>\n",
       "      <td>121</td>\n",
       "      <td>625</td>\n",
       "    </tr>\n",
       "  </tbody>\n",
       "</table>\n",
       "<p>100000 rows × 6 columns</p>\n",
       "</div>"
      ],
      "text/plain": [
       "          0     1     2     3     4     5\n",
       "0      9801  2809  1296   625  3025  5625\n",
       "1       529  7396     9  3025  1444  5041\n",
       "2         1  4356   961  7056  2304    25\n",
       "3      1764  5625  1936    25  4624  1681\n",
       "4      6084  2601  2704  2916   529   225\n",
       "...     ...   ...   ...   ...   ...   ...\n",
       "99995  6889  2601  2916   400  8836   225\n",
       "99996  6084    16  2209  4096  1369  2304\n",
       "99997  6241  2809  8836  1764  9604   484\n",
       "99998  2401  7056  6400   441  3721   144\n",
       "99999  1521  5776  1936  1849   121   625\n",
       "\n",
       "[100000 rows x 6 columns]"
      ]
     },
     "execution_count": 15,
     "metadata": {},
     "output_type": "execute_result"
    }
   ],
   "source": [
    "df.progress_apply(lambda x: x**2)"
   ]
  },
  {
   "cell_type": "code",
   "execution_count": null,
   "id": "6189e036-42a9-4ce0-b96d-aa50be811397",
   "metadata": {},
   "outputs": [],
   "source": []
  }
 ],
 "metadata": {
  "kernelspec": {
   "display_name": "Python 3 (ipykernel)",
   "language": "python",
   "name": "python3"
  },
  "language_info": {
   "codemirror_mode": {
    "name": "ipython",
    "version": 3
   },
   "file_extension": ".py",
   "mimetype": "text/x-python",
   "name": "python",
   "nbconvert_exporter": "python",
   "pygments_lexer": "ipython3",
   "version": "3.11.5"
  }
 },
 "nbformat": 4,
 "nbformat_minor": 5
}
