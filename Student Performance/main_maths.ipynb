{
 "cells": [
  {
   "cell_type": "code",
   "execution_count": 2,
   "id": "bad00e99",
   "metadata": {},
   "outputs": [],
   "source": [
    "import pandas as pd\n",
    "import numpy as np\n",
    "import seaborn as sns\n",
    "import matplotlib.pyplot as plt"
   ]
  },
  {
   "cell_type": "code",
   "execution_count": 4,
   "id": "8576b861",
   "metadata": {},
   "outputs": [],
   "source": [
    "df = pd.read_csv('student-mat.csv', sep=\";\")"
   ]
  },
  {
   "cell_type": "code",
   "execution_count": 5,
   "id": "1ae03af2",
   "metadata": {},
   "outputs": [
    {
     "data": {
      "text/html": [
       "<div>\n",
       "<style scoped>\n",
       "    .dataframe tbody tr th:only-of-type {\n",
       "        vertical-align: middle;\n",
       "    }\n",
       "\n",
       "    .dataframe tbody tr th {\n",
       "        vertical-align: top;\n",
       "    }\n",
       "\n",
       "    .dataframe thead th {\n",
       "        text-align: right;\n",
       "    }\n",
       "</style>\n",
       "<table border=\"1\" class=\"dataframe\">\n",
       "  <thead>\n",
       "    <tr style=\"text-align: right;\">\n",
       "      <th></th>\n",
       "      <th>school</th>\n",
       "      <th>sex</th>\n",
       "      <th>age</th>\n",
       "      <th>address</th>\n",
       "      <th>famsize</th>\n",
       "      <th>Pstatus</th>\n",
       "      <th>Medu</th>\n",
       "      <th>Fedu</th>\n",
       "      <th>Mjob</th>\n",
       "      <th>Fjob</th>\n",
       "      <th>...</th>\n",
       "      <th>famrel</th>\n",
       "      <th>freetime</th>\n",
       "      <th>goout</th>\n",
       "      <th>Dalc</th>\n",
       "      <th>Walc</th>\n",
       "      <th>health</th>\n",
       "      <th>absences</th>\n",
       "      <th>G1</th>\n",
       "      <th>G2</th>\n",
       "      <th>G3</th>\n",
       "    </tr>\n",
       "  </thead>\n",
       "  <tbody>\n",
       "    <tr>\n",
       "      <th>0</th>\n",
       "      <td>GP</td>\n",
       "      <td>F</td>\n",
       "      <td>18</td>\n",
       "      <td>U</td>\n",
       "      <td>GT3</td>\n",
       "      <td>A</td>\n",
       "      <td>4</td>\n",
       "      <td>4</td>\n",
       "      <td>at_home</td>\n",
       "      <td>teacher</td>\n",
       "      <td>...</td>\n",
       "      <td>4</td>\n",
       "      <td>3</td>\n",
       "      <td>4</td>\n",
       "      <td>1</td>\n",
       "      <td>1</td>\n",
       "      <td>3</td>\n",
       "      <td>6</td>\n",
       "      <td>5</td>\n",
       "      <td>6</td>\n",
       "      <td>6</td>\n",
       "    </tr>\n",
       "    <tr>\n",
       "      <th>1</th>\n",
       "      <td>GP</td>\n",
       "      <td>F</td>\n",
       "      <td>17</td>\n",
       "      <td>U</td>\n",
       "      <td>GT3</td>\n",
       "      <td>T</td>\n",
       "      <td>1</td>\n",
       "      <td>1</td>\n",
       "      <td>at_home</td>\n",
       "      <td>other</td>\n",
       "      <td>...</td>\n",
       "      <td>5</td>\n",
       "      <td>3</td>\n",
       "      <td>3</td>\n",
       "      <td>1</td>\n",
       "      <td>1</td>\n",
       "      <td>3</td>\n",
       "      <td>4</td>\n",
       "      <td>5</td>\n",
       "      <td>5</td>\n",
       "      <td>6</td>\n",
       "    </tr>\n",
       "    <tr>\n",
       "      <th>2</th>\n",
       "      <td>GP</td>\n",
       "      <td>F</td>\n",
       "      <td>15</td>\n",
       "      <td>U</td>\n",
       "      <td>LE3</td>\n",
       "      <td>T</td>\n",
       "      <td>1</td>\n",
       "      <td>1</td>\n",
       "      <td>at_home</td>\n",
       "      <td>other</td>\n",
       "      <td>...</td>\n",
       "      <td>4</td>\n",
       "      <td>3</td>\n",
       "      <td>2</td>\n",
       "      <td>2</td>\n",
       "      <td>3</td>\n",
       "      <td>3</td>\n",
       "      <td>10</td>\n",
       "      <td>7</td>\n",
       "      <td>8</td>\n",
       "      <td>10</td>\n",
       "    </tr>\n",
       "    <tr>\n",
       "      <th>3</th>\n",
       "      <td>GP</td>\n",
       "      <td>F</td>\n",
       "      <td>15</td>\n",
       "      <td>U</td>\n",
       "      <td>GT3</td>\n",
       "      <td>T</td>\n",
       "      <td>4</td>\n",
       "      <td>2</td>\n",
       "      <td>health</td>\n",
       "      <td>services</td>\n",
       "      <td>...</td>\n",
       "      <td>3</td>\n",
       "      <td>2</td>\n",
       "      <td>2</td>\n",
       "      <td>1</td>\n",
       "      <td>1</td>\n",
       "      <td>5</td>\n",
       "      <td>2</td>\n",
       "      <td>15</td>\n",
       "      <td>14</td>\n",
       "      <td>15</td>\n",
       "    </tr>\n",
       "    <tr>\n",
       "      <th>4</th>\n",
       "      <td>GP</td>\n",
       "      <td>F</td>\n",
       "      <td>16</td>\n",
       "      <td>U</td>\n",
       "      <td>GT3</td>\n",
       "      <td>T</td>\n",
       "      <td>3</td>\n",
       "      <td>3</td>\n",
       "      <td>other</td>\n",
       "      <td>other</td>\n",
       "      <td>...</td>\n",
       "      <td>4</td>\n",
       "      <td>3</td>\n",
       "      <td>2</td>\n",
       "      <td>1</td>\n",
       "      <td>2</td>\n",
       "      <td>5</td>\n",
       "      <td>4</td>\n",
       "      <td>6</td>\n",
       "      <td>10</td>\n",
       "      <td>10</td>\n",
       "    </tr>\n",
       "  </tbody>\n",
       "</table>\n",
       "<p>5 rows × 33 columns</p>\n",
       "</div>"
      ],
      "text/plain": [
       "  school sex  age address famsize Pstatus  Medu  Fedu     Mjob      Fjob  ...  \\\n",
       "0     GP   F   18       U     GT3       A     4     4  at_home   teacher  ...   \n",
       "1     GP   F   17       U     GT3       T     1     1  at_home     other  ...   \n",
       "2     GP   F   15       U     LE3       T     1     1  at_home     other  ...   \n",
       "3     GP   F   15       U     GT3       T     4     2   health  services  ...   \n",
       "4     GP   F   16       U     GT3       T     3     3    other     other  ...   \n",
       "\n",
       "  famrel freetime  goout  Dalc  Walc health absences  G1  G2  G3  \n",
       "0      4        3      4     1     1      3        6   5   6   6  \n",
       "1      5        3      3     1     1      3        4   5   5   6  \n",
       "2      4        3      2     2     3      3       10   7   8  10  \n",
       "3      3        2      2     1     1      5        2  15  14  15  \n",
       "4      4        3      2     1     2      5        4   6  10  10  \n",
       "\n",
       "[5 rows x 33 columns]"
      ]
     },
     "execution_count": 5,
     "metadata": {},
     "output_type": "execute_result"
    }
   ],
   "source": [
    "df.head()"
   ]
  },
  {
   "cell_type": "code",
   "execution_count": 6,
   "id": "249aa2e8",
   "metadata": {},
   "outputs": [
    {
     "data": {
      "text/plain": [
       "school        object\n",
       "sex           object\n",
       "age            int64\n",
       "address       object\n",
       "famsize       object\n",
       "Pstatus       object\n",
       "Medu           int64\n",
       "Fedu           int64\n",
       "Mjob          object\n",
       "Fjob          object\n",
       "reason        object\n",
       "guardian      object\n",
       "traveltime     int64\n",
       "studytime      int64\n",
       "failures       int64\n",
       "schoolsup     object\n",
       "famsup        object\n",
       "paid          object\n",
       "activities    object\n",
       "nursery       object\n",
       "higher        object\n",
       "internet      object\n",
       "romantic      object\n",
       "famrel         int64\n",
       "freetime       int64\n",
       "goout          int64\n",
       "Dalc           int64\n",
       "Walc           int64\n",
       "health         int64\n",
       "absences       int64\n",
       "G1             int64\n",
       "G2             int64\n",
       "G3             int64\n",
       "dtype: object"
      ]
     },
     "execution_count": 6,
     "metadata": {},
     "output_type": "execute_result"
    }
   ],
   "source": [
    "df.dtypes"
   ]
  },
  {
   "cell_type": "markdown",
   "id": "905df748",
   "metadata": {},
   "source": [
    "### Col definations\n",
    "* school - student's school (binary: 'GP' - Gabriel Pereira or 'MS' - Mousinho da Silveira)\n",
    "* sex - student's sex (binary: 'F' - female or 'M' - male)\n",
    "* age - student's age (numeric: from 15 to 22)\n",
    "* address - student's home address type (binary: 'U' - urban or 'R' - rural)\n",
    "* famsize - family size (binary: 'LE3' - less or equal to 3 or 'GT3' - greater than 3)\n",
    "* Pstatus - parent's cohabitation status (binary: 'T' - living together or 'A' - apart)\n",
    "* Medu - mother's education (numeric: 0 - none,  1 - primary education (4th grade), 2 - 5th to 9th grade, 3 - secondary education or 4 - higher education)\n",
    "* Fedu - father's education (numeric: 0 - none,  1 - primary education (4th grade), 2 - 5th to 9th grade, 3 - secondary education or 4 - higher education)\n",
    "* Mjob - mother's job (nominal: 'teacher', 'health' care related, civil 'services' (e.g. administrative or police), 'at_home' or 'other')\n",
    "* Fjob - father's job (nominal: 'teacher', 'health' care related, civil 'services' (e.g. administrative or police), 'at_home' or 'other')\n",
    "* reason - reason to choose this school (nominal: close to 'home', school 'reputation', 'course' preference or 'other')\n",
    "* guardian - student's guardian (nominal: 'mother', 'father' or 'other')\n",
    "* traveltime - home to school travel time (numeric: 1 - <15 min., 2 - 15 to 30 min., 3 - 30 min. to 1 hour, or 4 - >1 hour)\n",
    "* studytime - weekly study time (numeric: 1 - <2 hours, 2 - 2 to 5 hours, 3 - 5 to 10 hours, or 4 - >10 hours)\n",
    "* failures - number of past class failures (numeric: n if 1<=n<3, else 4)\n",
    "* schoolsup - extra educational support (binary: yes or no)\n",
    "* famsup - family educational support (binary: yes or no)\n",
    "* paid - extra paid classes within the course subject (Math or Portuguese) (binary: yes or no)\n",
    "* activities - extra-curricular activities (binary: yes or no)\n",
    "* nursery - attended nursery school (binary: yes or no)\n",
    "* higher - wants to take higher education (binary: yes or no)\n",
    "* internet - Internet access at home (binary: yes or no)\n",
    "* romantic - with a romantic relationship (binary: yes or no)\n",
    "* famrel - quality of family relationships (numeric: from 1 - very bad to 5 - excellent)\n",
    "* freetime - free time after school (numeric: from 1 - very low to 5 - very high)\n",
    "* goout - going out with friends (numeric: from 1 - very low to 5 - very high)\n",
    "* Dalc - workday alcohol consumption (numeric: from 1 - very low to 5 - very high)\n",
    "* Walc - weekend alcohol consumption (numeric: from 1 - very low to 5 - very high)\n",
    "* health - current health status (numeric: from 1 - very bad to 5 - very good)\n",
    "* absences - number of school absences (numeric: from 0 to 93)\n",
    "\n",
    "### Grades\n",
    "* G1 - first period grade (numeric: from 0 to 20)\n",
    "* G2 - second period grade (numeric: from 0 to 20)\n",
    "* G3 - final grade (numeric: from 0 to 20, output target)"
   ]
  },
  {
   "cell_type": "code",
   "execution_count": 7,
   "id": "978414bd",
   "metadata": {},
   "outputs": [
    {
     "data": {
      "text/plain": [
       "Index(['school', 'sex', 'age', 'address', 'famsize', 'Pstatus', 'Medu', 'Fedu',\n",
       "       'Mjob', 'Fjob', 'reason', 'guardian', 'traveltime', 'studytime',\n",
       "       'failures', 'schoolsup', 'famsup', 'paid', 'activities', 'nursery',\n",
       "       'higher', 'internet', 'romantic', 'famrel', 'freetime', 'goout', 'Dalc',\n",
       "       'Walc', 'health', 'absences', 'G1', 'G2', 'G3'],\n",
       "      dtype='object')"
      ]
     },
     "execution_count": 7,
     "metadata": {},
     "output_type": "execute_result"
    }
   ],
   "source": [
    "df.columns"
   ]
  },
  {
   "cell_type": "code",
   "execution_count": 8,
   "id": "d3efb0df",
   "metadata": {},
   "outputs": [],
   "source": [
    "df.columns = df.columns.str.lower().str.replace(\" \", \"_\")"
   ]
  },
  {
   "cell_type": "code",
   "execution_count": 9,
   "id": "67a02b1c",
   "metadata": {},
   "outputs": [
    {
     "data": {
      "text/plain": [
       "Index(['school', 'sex', 'age', 'address', 'famsize', 'pstatus', 'medu', 'fedu',\n",
       "       'mjob', 'fjob', 'reason', 'guardian', 'traveltime', 'studytime',\n",
       "       'failures', 'schoolsup', 'famsup', 'paid', 'activities', 'nursery',\n",
       "       'higher', 'internet', 'romantic', 'famrel', 'freetime', 'goout', 'dalc',\n",
       "       'walc', 'health', 'absences', 'g1', 'g2', 'g3'],\n",
       "      dtype='object')"
      ]
     },
     "execution_count": 9,
     "metadata": {},
     "output_type": "execute_result"
    }
   ],
   "source": [
    "df.columns"
   ]
  },
  {
   "cell_type": "code",
   "execution_count": 10,
   "id": "ba88066a",
   "metadata": {},
   "outputs": [],
   "source": [
    "numerical_cols = ['age', 'absences', 'g1', 'g2']\n",
    "\n",
    "binary_cols = ['schoolsup', 'famsup', 'paid', 'activities', \n",
    "               'nursery', 'higher', 'internet', 'romantic', ]\n",
    "\n",
    "ordinal_cols =['famrel', 'freetime', 'goout', 'dalc', 'walc', \n",
    "               'health', 'failures', 'traveltime', \n",
    "               'studytime', 'medu', 'fedu']\n",
    "\n",
    "categorical_cols = ['school', 'sex', 'address', 'pstatus', 'mjob', \n",
    "                    'fjob', 'reason', 'guardian', 'famsize']\n",
    "\n",
    "y_col = 'g3'"
   ]
  },
  {
   "cell_type": "markdown",
   "id": "625acc1c",
   "metadata": {},
   "source": [
    "### Common function"
   ]
  },
  {
   "cell_type": "code",
   "execution_count": 11,
   "id": "9c7b9dc1",
   "metadata": {},
   "outputs": [],
   "source": [
    "def generalize_inplace(cols):\n",
    "    for col in cols:\n",
    "        df[col] = df[col].str.replace(\" \", \"_\").str.lower()"
   ]
  },
  {
   "cell_type": "code",
   "execution_count": 12,
   "id": "4c7fca46",
   "metadata": {},
   "outputs": [],
   "source": [
    "def list_uniques(cols):\n",
    "    for col in cols:\n",
    "        print(col)\n",
    "        col_list= df[col].unique().tolist()\n",
    "        col_list.sort()\n",
    "        print(col_list)\n",
    "        print()"
   ]
  },
  {
   "cell_type": "markdown",
   "id": "32734ac0",
   "metadata": {},
   "source": [
    "### Numerical data analysis"
   ]
  },
  {
   "cell_type": "code",
   "execution_count": 13,
   "id": "ae02ef68",
   "metadata": {},
   "outputs": [
    {
     "data": {
      "text/html": [
       "<div>\n",
       "<style scoped>\n",
       "    .dataframe tbody tr th:only-of-type {\n",
       "        vertical-align: middle;\n",
       "    }\n",
       "\n",
       "    .dataframe tbody tr th {\n",
       "        vertical-align: top;\n",
       "    }\n",
       "\n",
       "    .dataframe thead th {\n",
       "        text-align: right;\n",
       "    }\n",
       "</style>\n",
       "<table border=\"1\" class=\"dataframe\">\n",
       "  <thead>\n",
       "    <tr style=\"text-align: right;\">\n",
       "      <th></th>\n",
       "      <th>age</th>\n",
       "      <th>absences</th>\n",
       "      <th>g1</th>\n",
       "      <th>g2</th>\n",
       "    </tr>\n",
       "  </thead>\n",
       "  <tbody>\n",
       "    <tr>\n",
       "      <th>count</th>\n",
       "      <td>395.000000</td>\n",
       "      <td>395.000000</td>\n",
       "      <td>395.000000</td>\n",
       "      <td>395.000000</td>\n",
       "    </tr>\n",
       "    <tr>\n",
       "      <th>mean</th>\n",
       "      <td>16.696203</td>\n",
       "      <td>5.708861</td>\n",
       "      <td>10.908861</td>\n",
       "      <td>10.713924</td>\n",
       "    </tr>\n",
       "    <tr>\n",
       "      <th>std</th>\n",
       "      <td>1.276043</td>\n",
       "      <td>8.003096</td>\n",
       "      <td>3.319195</td>\n",
       "      <td>3.761505</td>\n",
       "    </tr>\n",
       "    <tr>\n",
       "      <th>min</th>\n",
       "      <td>15.000000</td>\n",
       "      <td>0.000000</td>\n",
       "      <td>3.000000</td>\n",
       "      <td>0.000000</td>\n",
       "    </tr>\n",
       "    <tr>\n",
       "      <th>25%</th>\n",
       "      <td>16.000000</td>\n",
       "      <td>0.000000</td>\n",
       "      <td>8.000000</td>\n",
       "      <td>9.000000</td>\n",
       "    </tr>\n",
       "    <tr>\n",
       "      <th>50%</th>\n",
       "      <td>17.000000</td>\n",
       "      <td>4.000000</td>\n",
       "      <td>11.000000</td>\n",
       "      <td>11.000000</td>\n",
       "    </tr>\n",
       "    <tr>\n",
       "      <th>75%</th>\n",
       "      <td>18.000000</td>\n",
       "      <td>8.000000</td>\n",
       "      <td>13.000000</td>\n",
       "      <td>13.000000</td>\n",
       "    </tr>\n",
       "    <tr>\n",
       "      <th>max</th>\n",
       "      <td>22.000000</td>\n",
       "      <td>75.000000</td>\n",
       "      <td>19.000000</td>\n",
       "      <td>19.000000</td>\n",
       "    </tr>\n",
       "  </tbody>\n",
       "</table>\n",
       "</div>"
      ],
      "text/plain": [
       "              age    absences          g1          g2\n",
       "count  395.000000  395.000000  395.000000  395.000000\n",
       "mean    16.696203    5.708861   10.908861   10.713924\n",
       "std      1.276043    8.003096    3.319195    3.761505\n",
       "min     15.000000    0.000000    3.000000    0.000000\n",
       "25%     16.000000    0.000000    8.000000    9.000000\n",
       "50%     17.000000    4.000000   11.000000   11.000000\n",
       "75%     18.000000    8.000000   13.000000   13.000000\n",
       "max     22.000000   75.000000   19.000000   19.000000"
      ]
     },
     "execution_count": 13,
     "metadata": {},
     "output_type": "execute_result"
    }
   ],
   "source": [
    "df[numerical_cols].describe()"
   ]
  },
  {
   "cell_type": "code",
   "execution_count": 14,
   "id": "f5ca9c19",
   "metadata": {},
   "outputs": [
    {
     "name": "stdout",
     "output_type": "stream",
     "text": [
      "<class 'pandas.core.frame.DataFrame'>\n",
      "RangeIndex: 395 entries, 0 to 394\n",
      "Data columns (total 4 columns):\n",
      " #   Column    Non-Null Count  Dtype\n",
      "---  ------    --------------  -----\n",
      " 0   age       395 non-null    int64\n",
      " 1   absences  395 non-null    int64\n",
      " 2   g1        395 non-null    int64\n",
      " 3   g2        395 non-null    int64\n",
      "dtypes: int64(4)\n",
      "memory usage: 12.5 KB\n"
     ]
    }
   ],
   "source": [
    "df[numerical_cols].info()"
   ]
  },
  {
   "cell_type": "code",
   "execution_count": 15,
   "id": "5ff712df",
   "metadata": {},
   "outputs": [
    {
     "data": {
      "text/plain": [
       "<Axes: xlabel='absences', ylabel='Count'>"
      ]
     },
     "execution_count": 15,
     "metadata": {},
     "output_type": "execute_result"
    },
    {
     "data": {
      "image/png": "[encoded data removed]",
      "text/plain": [
       "<Figure size 640x480 with 2 Axes>"
      ]
     },
     "metadata": {},
     "output_type": "display_data"
    }
   ],
   "source": [
    "fig, axs = plt.subplots(ncols=2)\n",
    "sns.histplot(df.age, bins=20, ax=axs[0])\n",
    "sns.histplot(df.absences, bins=20, ax=axs[1])"
   ]
  },
  {
   "cell_type": "code",
   "execution_count": 16,
   "id": "bd7db7d4",
   "metadata": {},
   "outputs": [
    {
     "data": {
      "text/plain": [
       "<Axes: xlabel='g2', ylabel='Count'>"
      ]
     },
     "execution_count": 16,
     "metadata": {},
     "output_type": "execute_result"
    },
    {
     "data": {
      "image/png": "[encoded data removed]",
      "text/plain": [
       "<Figure size 640x480 with 2 Axes>"
      ]
     },
     "metadata": {},
     "output_type": "display_data"
    }
   ],
   "source": [
    "fig, axs = plt.subplots(ncols=2)\n",
    "sns.histplot(df.g1, bins=20, ax=axs[0])\n",
    "sns.histplot(df.g2, bins=20, ax=axs[1])"
   ]
  },
  {
   "cell_type": "markdown",
   "id": "a47dd8d3",
   "metadata": {},
   "source": [
    "### Binary feature analysis"
   ]
  },
  {
   "cell_type": "code",
   "execution_count": 17,
   "id": "3689943f",
   "metadata": {},
   "outputs": [
    {
     "data": {
      "text/html": [
       "<div>\n",
       "<style scoped>\n",
       "    .dataframe tbody tr th:only-of-type {\n",
       "        vertical-align: middle;\n",
       "    }\n",
       "\n",
       "    .dataframe tbody tr th {\n",
       "        vertical-align: top;\n",
       "    }\n",
       "\n",
       "    .dataframe thead th {\n",
       "        text-align: right;\n",
       "    }\n",
       "</style>\n",
       "<table border=\"1\" class=\"dataframe\">\n",
       "  <thead>\n",
       "    <tr style=\"text-align: right;\">\n",
       "      <th></th>\n",
       "      <th>schoolsup</th>\n",
       "      <th>famsup</th>\n",
       "      <th>paid</th>\n",
       "      <th>activities</th>\n",
       "      <th>nursery</th>\n",
       "      <th>higher</th>\n",
       "      <th>internet</th>\n",
       "      <th>romantic</th>\n",
       "    </tr>\n",
       "  </thead>\n",
       "  <tbody>\n",
       "    <tr>\n",
       "      <th>0</th>\n",
       "      <td>yes</td>\n",
       "      <td>no</td>\n",
       "      <td>no</td>\n",
       "      <td>no</td>\n",
       "      <td>yes</td>\n",
       "      <td>yes</td>\n",
       "      <td>no</td>\n",
       "      <td>no</td>\n",
       "    </tr>\n",
       "    <tr>\n",
       "      <th>1</th>\n",
       "      <td>no</td>\n",
       "      <td>yes</td>\n",
       "      <td>no</td>\n",
       "      <td>no</td>\n",
       "      <td>no</td>\n",
       "      <td>yes</td>\n",
       "      <td>yes</td>\n",
       "      <td>no</td>\n",
       "    </tr>\n",
       "    <tr>\n",
       "      <th>2</th>\n",
       "      <td>yes</td>\n",
       "      <td>no</td>\n",
       "      <td>yes</td>\n",
       "      <td>no</td>\n",
       "      <td>yes</td>\n",
       "      <td>yes</td>\n",
       "      <td>yes</td>\n",
       "      <td>no</td>\n",
       "    </tr>\n",
       "    <tr>\n",
       "      <th>3</th>\n",
       "      <td>no</td>\n",
       "      <td>yes</td>\n",
       "      <td>yes</td>\n",
       "      <td>yes</td>\n",
       "      <td>yes</td>\n",
       "      <td>yes</td>\n",
       "      <td>yes</td>\n",
       "      <td>yes</td>\n",
       "    </tr>\n",
       "    <tr>\n",
       "      <th>4</th>\n",
       "      <td>no</td>\n",
       "      <td>yes</td>\n",
       "      <td>yes</td>\n",
       "      <td>no</td>\n",
       "      <td>yes</td>\n",
       "      <td>yes</td>\n",
       "      <td>no</td>\n",
       "      <td>no</td>\n",
       "    </tr>\n",
       "  </tbody>\n",
       "</table>\n",
       "</div>"
      ],
      "text/plain": [
       "  schoolsup famsup paid activities nursery higher internet romantic\n",
       "0       yes     no   no         no     yes    yes       no       no\n",
       "1        no    yes   no         no      no    yes      yes       no\n",
       "2       yes     no  yes         no     yes    yes      yes       no\n",
       "3        no    yes  yes        yes     yes    yes      yes      yes\n",
       "4        no    yes  yes         no     yes    yes       no       no"
      ]
     },
     "execution_count": 17,
     "metadata": {},
     "output_type": "execute_result"
    }
   ],
   "source": [
    "df[binary_cols].head()"
   ]
  },
  {
   "cell_type": "code",
   "execution_count": 18,
   "id": "a8241ea0",
   "metadata": {},
   "outputs": [
    {
     "data": {
      "text/plain": [
       "schoolsup     0\n",
       "famsup        0\n",
       "paid          0\n",
       "activities    0\n",
       "nursery       0\n",
       "higher        0\n",
       "internet      0\n",
       "romantic      0\n",
       "dtype: int64"
      ]
     },
     "execution_count": 18,
     "metadata": {},
     "output_type": "execute_result"
    }
   ],
   "source": [
    "df[binary_cols].isna().sum()"
   ]
  },
  {
   "cell_type": "code",
   "execution_count": 19,
   "id": "afe7b048",
   "metadata": {},
   "outputs": [],
   "source": [
    "generalize_inplace(binary_cols)"
   ]
  },
  {
   "cell_type": "code",
   "execution_count": 20,
   "id": "0f22cf38",
   "metadata": {},
   "outputs": [
    {
     "data": {
      "text/plain": [
       "schoolsup     2\n",
       "famsup        2\n",
       "paid          2\n",
       "activities    2\n",
       "nursery       2\n",
       "higher        2\n",
       "internet      2\n",
       "romantic      2\n",
       "dtype: int64"
      ]
     },
     "execution_count": 20,
     "metadata": {},
     "output_type": "execute_result"
    }
   ],
   "source": [
    "df[binary_cols].nunique()"
   ]
  },
  {
   "cell_type": "code",
   "execution_count": 21,
   "id": "4be5b889",
   "metadata": {},
   "outputs": [
    {
     "name": "stdout",
     "output_type": "stream",
     "text": [
      "schoolsup\n",
      "['no', 'yes']\n",
      "\n",
      "famsup\n",
      "['no', 'yes']\n",
      "\n",
      "paid\n",
      "['no', 'yes']\n",
      "\n",
      "activities\n",
      "['no', 'yes']\n",
      "\n",
      "nursery\n",
      "['no', 'yes']\n",
      "\n",
      "higher\n",
      "['no', 'yes']\n",
      "\n",
      "internet\n",
      "['no', 'yes']\n",
      "\n",
      "romantic\n",
      "['no', 'yes']\n",
      "\n"
     ]
    }
   ],
   "source": [
    "list_uniques(binary_cols)"
   ]
  },
  {
   "cell_type": "markdown",
   "id": "ca51176b",
   "metadata": {},
   "source": [
    "### Ordinal feature analysis"
   ]
  },
  {
   "cell_type": "code",
   "execution_count": 22,
   "id": "500f2531",
   "metadata": {},
   "outputs": [
    {
     "data": {
      "text/html": [
       "<div>\n",
       "<style scoped>\n",
       "    .dataframe tbody tr th:only-of-type {\n",
       "        vertical-align: middle;\n",
       "    }\n",
       "\n",
       "    .dataframe tbody tr th {\n",
       "        vertical-align: top;\n",
       "    }\n",
       "\n",
       "    .dataframe thead th {\n",
       "        text-align: right;\n",
       "    }\n",
       "</style>\n",
       "<table border=\"1\" class=\"dataframe\">\n",
       "  <thead>\n",
       "    <tr style=\"text-align: right;\">\n",
       "      <th></th>\n",
       "      <th>famrel</th>\n",
       "      <th>freetime</th>\n",
       "      <th>goout</th>\n",
       "      <th>dalc</th>\n",
       "      <th>walc</th>\n",
       "      <th>health</th>\n",
       "      <th>failures</th>\n",
       "      <th>traveltime</th>\n",
       "      <th>studytime</th>\n",
       "      <th>medu</th>\n",
       "      <th>fedu</th>\n",
       "    </tr>\n",
       "  </thead>\n",
       "  <tbody>\n",
       "    <tr>\n",
       "      <th>0</th>\n",
       "      <td>4</td>\n",
       "      <td>3</td>\n",
       "      <td>4</td>\n",
       "      <td>1</td>\n",
       "      <td>1</td>\n",
       "      <td>3</td>\n",
       "      <td>0</td>\n",
       "      <td>2</td>\n",
       "      <td>2</td>\n",
       "      <td>4</td>\n",
       "      <td>4</td>\n",
       "    </tr>\n",
       "    <tr>\n",
       "      <th>1</th>\n",
       "      <td>5</td>\n",
       "      <td>3</td>\n",
       "      <td>3</td>\n",
       "      <td>1</td>\n",
       "      <td>1</td>\n",
       "      <td>3</td>\n",
       "      <td>0</td>\n",
       "      <td>1</td>\n",
       "      <td>2</td>\n",
       "      <td>1</td>\n",
       "      <td>1</td>\n",
       "    </tr>\n",
       "    <tr>\n",
       "      <th>2</th>\n",
       "      <td>4</td>\n",
       "      <td>3</td>\n",
       "      <td>2</td>\n",
       "      <td>2</td>\n",
       "      <td>3</td>\n",
       "      <td>3</td>\n",
       "      <td>3</td>\n",
       "      <td>1</td>\n",
       "      <td>2</td>\n",
       "      <td>1</td>\n",
       "      <td>1</td>\n",
       "    </tr>\n",
       "    <tr>\n",
       "      <th>3</th>\n",
       "      <td>3</td>\n",
       "      <td>2</td>\n",
       "      <td>2</td>\n",
       "      <td>1</td>\n",
       "      <td>1</td>\n",
       "      <td>5</td>\n",
       "      <td>0</td>\n",
       "      <td>1</td>\n",
       "      <td>3</td>\n",
       "      <td>4</td>\n",
       "      <td>2</td>\n",
       "    </tr>\n",
       "    <tr>\n",
       "      <th>4</th>\n",
       "      <td>4</td>\n",
       "      <td>3</td>\n",
       "      <td>2</td>\n",
       "      <td>1</td>\n",
       "      <td>2</td>\n",
       "      <td>5</td>\n",
       "      <td>0</td>\n",
       "      <td>1</td>\n",
       "      <td>2</td>\n",
       "      <td>3</td>\n",
       "      <td>3</td>\n",
       "    </tr>\n",
       "  </tbody>\n",
       "</table>\n",
       "</div>"
      ],
      "text/plain": [
       "   famrel  freetime  goout  dalc  walc  health  failures  traveltime  \\\n",
       "0       4         3      4     1     1       3         0           2   \n",
       "1       5         3      3     1     1       3         0           1   \n",
       "2       4         3      2     2     3       3         3           1   \n",
       "3       3         2      2     1     1       5         0           1   \n",
       "4       4         3      2     1     2       5         0           1   \n",
       "\n",
       "   studytime  medu  fedu  \n",
       "0          2     4     4  \n",
       "1          2     1     1  \n",
       "2          2     1     1  \n",
       "3          3     4     2  \n",
       "4          2     3     3  "
      ]
     },
     "execution_count": 22,
     "metadata": {},
     "output_type": "execute_result"
    }
   ],
   "source": [
    "df[ordinal_cols].head()"
   ]
  },
  {
   "cell_type": "code",
   "execution_count": 23,
   "id": "5a65dab0",
   "metadata": {},
   "outputs": [
    {
     "name": "stdout",
     "output_type": "stream",
     "text": [
      "<class 'pandas.core.frame.DataFrame'>\n",
      "RangeIndex: 395 entries, 0 to 394\n",
      "Data columns (total 11 columns):\n",
      " #   Column      Non-Null Count  Dtype\n",
      "---  ------      --------------  -----\n",
      " 0   famrel      395 non-null    int64\n",
      " 1   freetime    395 non-null    int64\n",
      " 2   goout       395 non-null    int64\n",
      " 3   dalc        395 non-null    int64\n",
      " 4   walc        395 non-null    int64\n",
      " 5   health      395 non-null    int64\n",
      " 6   failures    395 non-null    int64\n",
      " 7   traveltime  395 non-null    int64\n",
      " 8   studytime   395 non-null    int64\n",
      " 9   medu        395 non-null    int64\n",
      " 10  fedu        395 non-null    int64\n",
      "dtypes: int64(11)\n",
      "memory usage: 34.1 KB\n"
     ]
    }
   ],
   "source": [
    "df[ordinal_cols].info()"
   ]
  },
  {
   "cell_type": "code",
   "execution_count": 24,
   "id": "0641747e",
   "metadata": {},
   "outputs": [
    {
     "data": {
      "text/plain": [
       "famrel        0\n",
       "freetime      0\n",
       "goout         0\n",
       "dalc          0\n",
       "walc          0\n",
       "health        0\n",
       "failures      0\n",
       "traveltime    0\n",
       "studytime     0\n",
       "medu          0\n",
       "fedu          0\n",
       "dtype: int64"
      ]
     },
     "execution_count": 24,
     "metadata": {},
     "output_type": "execute_result"
    }
   ],
   "source": [
    "df[ordinal_cols].isna().sum()"
   ]
  },
  {
   "cell_type": "code",
   "execution_count": 25,
   "id": "62dd0b83",
   "metadata": {},
   "outputs": [],
   "source": [
    "generalize_inplace([\"famsize\"])"
   ]
  },
  {
   "cell_type": "code",
   "execution_count": 26,
   "id": "5cc361ba",
   "metadata": {},
   "outputs": [
    {
     "name": "stdout",
     "output_type": "stream",
     "text": [
      "famrel\n",
      "[1, 2, 3, 4, 5]\n",
      "\n",
      "freetime\n",
      "[1, 2, 3, 4, 5]\n",
      "\n",
      "goout\n",
      "[1, 2, 3, 4, 5]\n",
      "\n",
      "dalc\n",
      "[1, 2, 3, 4, 5]\n",
      "\n",
      "walc\n",
      "[1, 2, 3, 4, 5]\n",
      "\n",
      "health\n",
      "[1, 2, 3, 4, 5]\n",
      "\n",
      "failures\n",
      "[0, 1, 2, 3]\n",
      "\n",
      "traveltime\n",
      "[1, 2, 3, 4]\n",
      "\n",
      "studytime\n",
      "[1, 2, 3, 4]\n",
      "\n",
      "medu\n",
      "[0, 1, 2, 3, 4]\n",
      "\n",
      "fedu\n",
      "[0, 1, 2, 3, 4]\n",
      "\n"
     ]
    }
   ],
   "source": [
    "list_uniques(ordinal_cols)"
   ]
  },
  {
   "cell_type": "markdown",
   "id": "6eb74012",
   "metadata": {},
   "source": [
    "### Categorical feature analysis"
   ]
  },
  {
   "cell_type": "code",
   "execution_count": 27,
   "id": "39fbb1d2",
   "metadata": {},
   "outputs": [
    {
     "data": {
      "text/html": [
       "<div>\n",
       "<style scoped>\n",
       "    .dataframe tbody tr th:only-of-type {\n",
       "        vertical-align: middle;\n",
       "    }\n",
       "\n",
       "    .dataframe tbody tr th {\n",
       "        vertical-align: top;\n",
       "    }\n",
       "\n",
       "    .dataframe thead th {\n",
       "        text-align: right;\n",
       "    }\n",
       "</style>\n",
       "<table border=\"1\" class=\"dataframe\">\n",
       "  <thead>\n",
       "    <tr style=\"text-align: right;\">\n",
       "      <th></th>\n",
       "      <th>school</th>\n",
       "      <th>sex</th>\n",
       "      <th>address</th>\n",
       "      <th>pstatus</th>\n",
       "      <th>mjob</th>\n",
       "      <th>fjob</th>\n",
       "      <th>reason</th>\n",
       "      <th>guardian</th>\n",
       "      <th>famsize</th>\n",
       "    </tr>\n",
       "  </thead>\n",
       "  <tbody>\n",
       "    <tr>\n",
       "      <th>0</th>\n",
       "      <td>GP</td>\n",
       "      <td>F</td>\n",
       "      <td>U</td>\n",
       "      <td>A</td>\n",
       "      <td>at_home</td>\n",
       "      <td>teacher</td>\n",
       "      <td>course</td>\n",
       "      <td>mother</td>\n",
       "      <td>gt3</td>\n",
       "    </tr>\n",
       "    <tr>\n",
       "      <th>1</th>\n",
       "      <td>GP</td>\n",
       "      <td>F</td>\n",
       "      <td>U</td>\n",
       "      <td>T</td>\n",
       "      <td>at_home</td>\n",
       "      <td>other</td>\n",
       "      <td>course</td>\n",
       "      <td>father</td>\n",
       "      <td>gt3</td>\n",
       "    </tr>\n",
       "    <tr>\n",
       "      <th>2</th>\n",
       "      <td>GP</td>\n",
       "      <td>F</td>\n",
       "      <td>U</td>\n",
       "      <td>T</td>\n",
       "      <td>at_home</td>\n",
       "      <td>other</td>\n",
       "      <td>other</td>\n",
       "      <td>mother</td>\n",
       "      <td>le3</td>\n",
       "    </tr>\n",
       "    <tr>\n",
       "      <th>3</th>\n",
       "      <td>GP</td>\n",
       "      <td>F</td>\n",
       "      <td>U</td>\n",
       "      <td>T</td>\n",
       "      <td>health</td>\n",
       "      <td>services</td>\n",
       "      <td>home</td>\n",
       "      <td>mother</td>\n",
       "      <td>gt3</td>\n",
       "    </tr>\n",
       "    <tr>\n",
       "      <th>4</th>\n",
       "      <td>GP</td>\n",
       "      <td>F</td>\n",
       "      <td>U</td>\n",
       "      <td>T</td>\n",
       "      <td>other</td>\n",
       "      <td>other</td>\n",
       "      <td>home</td>\n",
       "      <td>father</td>\n",
       "      <td>gt3</td>\n",
       "    </tr>\n",
       "  </tbody>\n",
       "</table>\n",
       "</div>"
      ],
      "text/plain": [
       "  school sex address pstatus     mjob      fjob  reason guardian famsize\n",
       "0     GP   F       U       A  at_home   teacher  course   mother     gt3\n",
       "1     GP   F       U       T  at_home     other  course   father     gt3\n",
       "2     GP   F       U       T  at_home     other   other   mother     le3\n",
       "3     GP   F       U       T   health  services    home   mother     gt3\n",
       "4     GP   F       U       T    other     other    home   father     gt3"
      ]
     },
     "execution_count": 27,
     "metadata": {},
     "output_type": "execute_result"
    }
   ],
   "source": [
    "df[categorical_cols].head()"
   ]
  },
  {
   "cell_type": "code",
   "execution_count": 28,
   "id": "83630b0b",
   "metadata": {},
   "outputs": [
    {
     "data": {
      "text/plain": [
       "school      object\n",
       "sex         object\n",
       "address     object\n",
       "pstatus     object\n",
       "mjob        object\n",
       "fjob        object\n",
       "reason      object\n",
       "guardian    object\n",
       "famsize     object\n",
       "dtype: object"
      ]
     },
     "execution_count": 28,
     "metadata": {},
     "output_type": "execute_result"
    }
   ],
   "source": [
    "df[categorical_cols].dtypes"
   ]
  },
  {
   "cell_type": "code",
   "execution_count": 29,
   "id": "a5fe21c2",
   "metadata": {},
   "outputs": [
    {
     "data": {
      "text/plain": [
       "school      0\n",
       "sex         0\n",
       "address     0\n",
       "pstatus     0\n",
       "mjob        0\n",
       "fjob        0\n",
       "reason      0\n",
       "guardian    0\n",
       "famsize     0\n",
       "dtype: int64"
      ]
     },
     "execution_count": 29,
     "metadata": {},
     "output_type": "execute_result"
    }
   ],
   "source": [
    "df[categorical_cols].isna().sum()"
   ]
  },
  {
   "cell_type": "code",
   "execution_count": 30,
   "id": "2067c0d2",
   "metadata": {},
   "outputs": [],
   "source": [
    "generalize_inplace(categorical_cols)"
   ]
  },
  {
   "cell_type": "code",
   "execution_count": 31,
   "id": "336f1d2b",
   "metadata": {},
   "outputs": [
    {
     "name": "stdout",
     "output_type": "stream",
     "text": [
      "school\n",
      "['gp', 'ms']\n",
      "\n",
      "sex\n",
      "['f', 'm']\n",
      "\n",
      "address\n",
      "['r', 'u']\n",
      "\n",
      "pstatus\n",
      "['a', 't']\n",
      "\n",
      "mjob\n",
      "['at_home', 'health', 'other', 'services', 'teacher']\n",
      "\n",
      "fjob\n",
      "['at_home', 'health', 'other', 'services', 'teacher']\n",
      "\n",
      "reason\n",
      "['course', 'home', 'other', 'reputation']\n",
      "\n",
      "guardian\n",
      "['father', 'mother', 'other']\n",
      "\n",
      "famsize\n",
      "['gt3', 'le3']\n",
      "\n"
     ]
    }
   ],
   "source": [
    "list_uniques(categorical_cols)"
   ]
  },
  {
   "cell_type": "markdown",
   "id": "d6fb17a5",
   "metadata": {},
   "source": [
    "### Target variable analysis"
   ]
  },
  {
   "cell_type": "code",
   "execution_count": 32,
   "id": "dc785433",
   "metadata": {},
   "outputs": [
    {
     "data": {
      "text/plain": [
       "<Axes: xlabel='g3', ylabel='Count'>"
      ]
     },
     "execution_count": 32,
     "metadata": {},
     "output_type": "execute_result"
    },
    {
     "data": {
      "image/png": "[encoded data removed]",
      "text/plain": [
       "<Figure size 640x480 with 1 Axes>"
      ]
     },
     "metadata": {},
     "output_type": "display_data"
    }
   ],
   "source": [
    "sns.histplot(df.g3, bins=20)"
   ]
  },
  {
   "cell_type": "code",
   "execution_count": 33,
   "id": "aa4a82c1",
   "metadata": {},
   "outputs": [
    {
     "data": {
      "text/plain": [
       "count    395.000000\n",
       "mean      10.415190\n",
       "std        4.581443\n",
       "min        0.000000\n",
       "25%        8.000000\n",
       "50%       11.000000\n",
       "75%       14.000000\n",
       "max       20.000000\n",
       "Name: g3, dtype: float64"
      ]
     },
     "execution_count": 33,
     "metadata": {},
     "output_type": "execute_result"
    }
   ],
   "source": [
    "df[y_col].describe()"
   ]
  },
  {
   "cell_type": "code",
   "execution_count": 34,
   "id": "d410d144",
   "metadata": {},
   "outputs": [
    {
     "data": {
      "text/plain": [
       "0"
      ]
     },
     "execution_count": 34,
     "metadata": {},
     "output_type": "execute_result"
    }
   ],
   "source": [
    "df[y_col].isna().sum()"
   ]
  },
  {
   "cell_type": "markdown",
   "id": "6d147130",
   "metadata": {},
   "source": [
    "### Data splitting"
   ]
  },
  {
   "cell_type": "code",
   "execution_count": 35,
   "id": "d53b590f",
   "metadata": {},
   "outputs": [
    {
     "data": {
      "text/plain": [
       "(395, 237, 79, 79)"
      ]
     },
     "execution_count": 35,
     "metadata": {},
     "output_type": "execute_result"
    }
   ],
   "source": [
    "n = len(df)\n",
    "n_val = int(n * 0.2)\n",
    "n_test = int(n * 0.2)\n",
    "n_train = int(n - n_val - n_test)\n",
    "n, n_train, n_val, n_test"
   ]
  },
  {
   "cell_type": "code",
   "execution_count": 37,
   "id": "8d552d90",
   "metadata": {},
   "outputs": [],
   "source": [
    "refresh_i_rand = True\n",
    "if refresh_i_rand or i_rand is None:\n",
    "    i_rand = np.arange(n)\n",
    "    np.random.shuffle(i_rand)"
   ]
  },
  {
   "cell_type": "code",
   "execution_count": 38,
   "id": "aebf7f73",
   "metadata": {},
   "outputs": [
    {
     "name": "stdout",
     "output_type": "stream",
     "text": [
      "395 237 79 79\n"
     ]
    }
   ],
   "source": [
    "df_train = df.iloc[i_rand[:n_train]]\n",
    "df_val = df.iloc[i_rand[n_train:n_train + n_val]]\n",
    "df_test = df.iloc[i_rand[n_train + n_val:]]\n",
    "print(len(df), len(df_train), len(df_val), len(df_test))"
   ]
  },
  {
   "cell_type": "code",
   "execution_count": 39,
   "id": "4ba68dab",
   "metadata": {},
   "outputs": [],
   "source": [
    "df_train = df_train.reset_index(drop=True)\n",
    "df_val = df_val.reset_index(drop=True)\n",
    "df_test = df_test.reset_index(drop=True)"
   ]
  },
  {
   "cell_type": "code",
   "execution_count": 40,
   "id": "36b38dde",
   "metadata": {},
   "outputs": [
    {
     "data": {
      "text/plain": [
       "11.39240506329114"
      ]
     },
     "execution_count": 40,
     "metadata": {},
     "output_type": "execute_result"
    }
   ],
   "source": [
    "df_test.school.value_counts()['ms']*100/len(df_test)"
   ]
  },
  {
   "cell_type": "code",
   "execution_count": 41,
   "id": "8f7073a9",
   "metadata": {},
   "outputs": [
    {
     "data": {
      "text/plain": [
       "18.9873417721519"
      ]
     },
     "execution_count": 41,
     "metadata": {},
     "output_type": "execute_result"
    }
   ],
   "source": [
    "df_val.school.value_counts()['ms']*100/len(df_val)"
   ]
  },
  {
   "cell_type": "code",
   "execution_count": 42,
   "id": "51ea6146",
   "metadata": {},
   "outputs": [
    {
     "data": {
      "text/plain": [
       "9.282700421940929"
      ]
     },
     "execution_count": 42,
     "metadata": {},
     "output_type": "execute_result"
    }
   ],
   "source": [
    "df_train.school.value_counts()['ms']*100/len(df_train)"
   ]
  },
  {
   "cell_type": "code",
   "execution_count": 43,
   "id": "2a2a65d3",
   "metadata": {},
   "outputs": [
    {
     "data": {
      "text/plain": [
       "11.645569620253164"
      ]
     },
     "execution_count": 43,
     "metadata": {},
     "output_type": "execute_result"
    }
   ],
   "source": [
    "df.school.value_counts()['ms']*100/len(df)"
   ]
  },
  {
   "cell_type": "markdown",
   "id": "3784c5e8",
   "metadata": {},
   "source": [
    "### Data preperation"
   ]
  },
  {
   "cell_type": "code",
   "execution_count": 44,
   "id": "648de577",
   "metadata": {},
   "outputs": [],
   "source": [
    "numerical_cols = ['age', 'absences', 'g1', 'g2']\n",
    "\n",
    "binary_cols = ['schoolsup', 'famsup', 'paid', 'activities', \n",
    "               'nursery', 'higher', 'internet', 'romantic', ]\n",
    "\n",
    "ordinal_cols =['famrel', 'freetime', 'goout', 'dalc', 'walc', \n",
    "               'health', 'failures', 'traveltime', \n",
    "               'studytime', 'medu', 'fedu']\n",
    "\n",
    "categorical_cols = ['school', 'sex', 'address', 'pstatus', 'mjob', \n",
    "                    'fjob', 'reason', 'guardian', 'famsize']\n",
    "\n",
    "y_col = 'g3'"
   ]
  },
  {
   "cell_type": "code",
   "execution_count": 45,
   "id": "1beb6598",
   "metadata": {},
   "outputs": [
    {
     "data": {
      "text/html": [
       "<div>\n",
       "<style scoped>\n",
       "    .dataframe tbody tr th:only-of-type {\n",
       "        vertical-align: middle;\n",
       "    }\n",
       "\n",
       "    .dataframe tbody tr th {\n",
       "        vertical-align: top;\n",
       "    }\n",
       "\n",
       "    .dataframe thead th {\n",
       "        text-align: right;\n",
       "    }\n",
       "</style>\n",
       "<table border=\"1\" class=\"dataframe\">\n",
       "  <thead>\n",
       "    <tr style=\"text-align: right;\">\n",
       "      <th></th>\n",
       "      <th>school</th>\n",
       "      <th>school_gp</th>\n",
       "      <th>school_ms</th>\n",
       "    </tr>\n",
       "  </thead>\n",
       "  <tbody>\n",
       "    <tr>\n",
       "      <th>0</th>\n",
       "      <td>gp</td>\n",
       "      <td>1</td>\n",
       "      <td>0</td>\n",
       "    </tr>\n",
       "    <tr>\n",
       "      <th>1</th>\n",
       "      <td>gp</td>\n",
       "      <td>1</td>\n",
       "      <td>0</td>\n",
       "    </tr>\n",
       "    <tr>\n",
       "      <th>2</th>\n",
       "      <td>gp</td>\n",
       "      <td>1</td>\n",
       "      <td>0</td>\n",
       "    </tr>\n",
       "    <tr>\n",
       "      <th>3</th>\n",
       "      <td>gp</td>\n",
       "      <td>1</td>\n",
       "      <td>0</td>\n",
       "    </tr>\n",
       "    <tr>\n",
       "      <th>4</th>\n",
       "      <td>gp</td>\n",
       "      <td>1</td>\n",
       "      <td>0</td>\n",
       "    </tr>\n",
       "    <tr>\n",
       "      <th>...</th>\n",
       "      <td>...</td>\n",
       "      <td>...</td>\n",
       "      <td>...</td>\n",
       "    </tr>\n",
       "    <tr>\n",
       "      <th>390</th>\n",
       "      <td>ms</td>\n",
       "      <td>0</td>\n",
       "      <td>1</td>\n",
       "    </tr>\n",
       "    <tr>\n",
       "      <th>391</th>\n",
       "      <td>ms</td>\n",
       "      <td>0</td>\n",
       "      <td>1</td>\n",
       "    </tr>\n",
       "    <tr>\n",
       "      <th>392</th>\n",
       "      <td>ms</td>\n",
       "      <td>0</td>\n",
       "      <td>1</td>\n",
       "    </tr>\n",
       "    <tr>\n",
       "      <th>393</th>\n",
       "      <td>ms</td>\n",
       "      <td>0</td>\n",
       "      <td>1</td>\n",
       "    </tr>\n",
       "    <tr>\n",
       "      <th>394</th>\n",
       "      <td>ms</td>\n",
       "      <td>0</td>\n",
       "      <td>1</td>\n",
       "    </tr>\n",
       "  </tbody>\n",
       "</table>\n",
       "<p>395 rows × 3 columns</p>\n",
       "</div>"
      ],
      "text/plain": [
       "    school  school_gp  school_ms\n",
       "0       gp          1          0\n",
       "1       gp          1          0\n",
       "2       gp          1          0\n",
       "3       gp          1          0\n",
       "4       gp          1          0\n",
       "..     ...        ...        ...\n",
       "390     ms          0          1\n",
       "391     ms          0          1\n",
       "392     ms          0          1\n",
       "393     ms          0          1\n",
       "394     ms          0          1\n",
       "\n",
       "[395 rows x 3 columns]"
      ]
     },
     "execution_count": 45,
     "metadata": {},
     "output_type": "execute_result"
    }
   ],
   "source": [
    "t = df[['school']].copy()\n",
    "for val in t['school'].unique().tolist():\n",
    "    t['school_' + val] = (t['school'] == val).astype('int')\n",
    "t"
   ]
  },
  {
   "cell_type": "code",
   "execution_count": 46,
   "id": "e0658cce",
   "metadata": {},
   "outputs": [],
   "source": [
    "def prepare_X(df_local: pd.DataFrame, include_binary: bool, include_ordinal: bool, include_categorical: bool):\n",
    "    df_local = df_local.copy()\n",
    "    X_cols = numerical_cols.copy()\n",
    "    \n",
    "    if include_binary:\n",
    "        #print(\"Including binary\")\n",
    "        X_cols += binary_cols\n",
    "        for col in binary_cols:\n",
    "            df_local[col] = (df_local[col] == \"yes\").astype('int')\n",
    "            \n",
    "    if include_ordinal:\n",
    "        #print(\"Including ordinal\")\n",
    "        X_cols += ordinal_cols\n",
    "    \n",
    "    if include_categorical:\n",
    "        #print(\"Including categorical\")\n",
    "        for col in categorical_cols:\n",
    "            for val in df[col].unique().tolist():\n",
    "                df_local[f'{col}_{val}'] = (df_local[col] == val).astype('int')\n",
    "                X_cols += [f'{col}_{val}']\n",
    "                \n",
    "    return df_local[y_col], df_local[X_cols]"
   ]
  },
  {
   "cell_type": "markdown",
   "id": "cde5a308",
   "metadata": {},
   "source": [
    "### Model training"
   ]
  },
  {
   "cell_type": "code",
   "execution_count": 47,
   "id": "13c5aa31",
   "metadata": {},
   "outputs": [],
   "source": [
    "def train_linear_regression_reg(X: pd.DataFrame, y: pd.Series, r=0.0):\n",
    "    ones = np.ones(X.shape[0])\n",
    "    X = np.column_stack([ones, X.values])\n",
    "\n",
    "    XTX = X.T.dot(X)\n",
    "    reg = r * np.eye(XTX.shape[0])\n",
    "    XTX = XTX + reg\n",
    "\n",
    "    XTX_inv = np.linalg.inv(XTX)\n",
    "    w = XTX_inv.dot(X.T).dot(y.values)\n",
    "    \n",
    "    return w[0], w[1:]"
   ]
  },
  {
   "cell_type": "code",
   "execution_count": 53,
   "id": "6c737876",
   "metadata": {},
   "outputs": [],
   "source": [
    "def rmse(y, y_pred):\n",
    "    error = y_pred - y\n",
    "    mse = (error ** 2).mean()\n",
    "    return np.sqrt(mse)"
   ]
  },
  {
   "cell_type": "code",
   "execution_count": 54,
   "id": "7d36a9f7",
   "metadata": {},
   "outputs": [],
   "source": [
    "def train_for_rs(X_train, y_train, X_val, y_val):\n",
    "    result = []\n",
    "    print(\"Reg_val\", \"\\t\", \"RMSE\", \"\\t\\t\\t\", \"W0\", \"\\t\\t\\t\", \"W max\")\n",
    "    print(\"------------------------------------------------------------------------------------\")\n",
    "    for r in [0.0001, 0.001, 0.01, 0.1, 1, 10, 100, 1000]:\n",
    "        w_0, w = train_linear_regression_reg(X_train, y_train, r)\n",
    "        y_pred = w_0 + X_val.dot(w)\n",
    "        print(r, \"\\t\\t\", rmse(y_val, y_pred), \"\\t\", w_0, \"\\t\", w.max())\n",
    "        result.append((r, rmse(y_val, y_pred), w_0, w.max()))\n",
    "        \n",
    "    return result"
   ]
  },
  {
   "cell_type": "code",
   "execution_count": 55,
   "id": "0d577d33",
   "metadata": {},
   "outputs": [],
   "source": [
    "def draw_r_vs_rmse(result: list[tuple]):\n",
    "    r_s=[r[0] for r in result]\n",
    "    rmse_s = [r[1] for r in result]\n",
    "    sns.pointplot(x=r_s, y=rmse_s)\n",
    "    plt.show()"
   ]
  },
  {
   "cell_type": "code",
   "execution_count": 56,
   "id": "5c632944",
   "metadata": {},
   "outputs": [
    {
     "name": "stdout",
     "output_type": "stream",
     "text": [
      "Reg_val \t RMSE \t\t\t W0 \t\t\t W max\n",
      "------------------------------------------------------------------------------------\n",
      "0.0001 \t\t 2.4454301986062545 \t -1.133774900184549 \t 0.9564430032652598\n",
      "0.001 \t\t 2.4454095907881155 \t -1.1328826582163707 \t 0.9564359950389328\n",
      "0.01 \t\t 2.44520538225044 \t -1.124036814320303 \t 0.9563664408605852\n",
      "0.1 \t\t 2.4433345316432833 \t -1.042620775077043 \t 0.9557194667162352\n",
      "1 \t\t 2.433548365308066 \t -0.6044864103092802 \t 0.951843882597201\n",
      "10 \t\t 2.4236740580139653 \t -0.11559303250592551 \t 0.9401118794539918\n",
      "100 \t\t 2.4299346301780074 \t -0.01211831076904846 \t 0.8709323945338608\n",
      "1000 \t\t 2.5559654207027043 \t 0.0021329261598238966 \t 0.6217806197870372\n"
     ]
    },
    {
     "data": {
      "image/png": "[encoded data removed]",
      "text/plain": [
       "<Figure size 640x480 with 1 Axes>"
      ]
     },
     "metadata": {},
     "output_type": "display_data"
    }
   ],
   "source": [
    "y_train, X_train = prepare_X(df_train, False, False, False)\n",
    "y_val, X_val = prepare_X(df_val, False, False, False)\n",
    "y_test, X_test = prepare_X(df_test, False, False, False)\n",
    "\n",
    "draw_r_vs_rmse(train_for_rs(X_train, y_train, X_val, y_val))"
   ]
  },
  {
   "cell_type": "markdown",
   "id": "4d3528ba",
   "metadata": {},
   "source": [
    "### Include binary features"
   ]
  },
  {
   "cell_type": "code",
   "execution_count": 57,
   "id": "f2f2e081",
   "metadata": {},
   "outputs": [
    {
     "name": "stdout",
     "output_type": "stream",
     "text": [
      "Reg_val \t RMSE \t\t\t W0 \t\t\t W max\n",
      "------------------------------------------------------------------------------------\n",
      "0.0001 \t\t 2.477632091444419 \t -2.0222089133889893 \t 0.9487758668520964\n",
      "0.001 \t\t 2.477579589638991 \t -2.0197045285412436 \t 0.9487675449172721\n",
      "0.01 \t\t 2.477061778014276 \t -1.9949921359992273 \t 0.9486853188094985\n",
      "0.1 \t\t 2.4725136897629514 \t -1.777067370989382 \t 0.947950552652106\n",
      "1 \t\t 2.45288362134221 \t -0.8402836196457473 \t 0.9443246878727029\n",
      "10 \t\t 2.4312447373646466 \t -0.12395689957864953 \t 0.9340320719177398\n",
      "100 \t\t 2.427274075995905 \t -0.012745674430049599 \t 0.867260053909334\n",
      "1000 \t\t 2.5550331892946208 \t 0.0019831338217457 \t 0.6208676638970883\n"
     ]
    },
    {
     "data": {
      "image/png": "[encoded data removed]",
      "text/plain": [
       "<Figure size 640x480 with 1 Axes>"
      ]
     },
     "metadata": {},
     "output_type": "display_data"
    }
   ],
   "source": [
    "y_train, X_train = prepare_X(df_train, True, False, False)\n",
    "y_val, X_val = prepare_X(df_val, True, False, False)\n",
    "y_test, X_test = prepare_X(df_test, True, False, False)\n",
    "\n",
    "draw_r_vs_rmse(train_for_rs(X_train, y_train, X_val, y_val))"
   ]
  },
  {
   "cell_type": "markdown",
   "id": "615fe76c",
   "metadata": {},
   "source": [
    "### Include all features"
   ]
  },
  {
   "cell_type": "code",
   "execution_count": 58,
   "id": "0e55ad31",
   "metadata": {},
   "outputs": [
    {
     "name": "stdout",
     "output_type": "stream",
     "text": [
      "Reg_val \t RMSE \t\t\t W0 \t\t\t W max\n",
      "------------------------------------------------------------------------------------\n",
      "0.0001 \t\t 2.627077914211696 \t -0.6390761053671667 \t 1.2522685798889372\n",
      "0.001 \t\t 2.627047997380555 \t -0.6395847703773825 \t 1.2520325432055595\n",
      "0.01 \t\t 2.626749848086626 \t -0.6365484403736499 \t 1.2496803048859682\n",
      "0.1 \t\t 2.6238666476385 \t -0.6076785102302633 \t 1.226936370385482\n",
      "1 \t\t 2.6016793749201703 \t -0.4170716309128705 \t 1.0535315865629136\n",
      "10 \t\t 2.519319704269876 \t -0.10558051773307944 \t 0.9304076456327401\n",
      "100 \t\t 2.4334429719133133 \t -0.01775832752966155 \t 0.8600472103294499\n",
      "1000 \t\t 2.5503006214287454 \t 0.0007129490900667961 \t 0.6134197496834396\n"
     ]
    },
    {
     "data": {
      "image/png": "[encoded data removed]",
      "text/plain": [
       "<Figure size 640x480 with 1 Axes>"
      ]
     },
     "metadata": {},
     "output_type": "display_data"
    }
   ],
   "source": [
    "y_train, X_train = prepare_X(df_train, True, True, True)\n",
    "y_val, X_val = prepare_X(df_val, True, True, True)\n",
    "y_test, X_test = prepare_X(df_test, True, True, True)\n",
    "\n",
    "draw_r_vs_rmse(train_for_rs(X_train, y_train, X_val, y_val))"
   ]
  },
  {
   "cell_type": "code",
   "execution_count": 59,
   "id": "85dec60b",
   "metadata": {},
   "outputs": [],
   "source": [
    "r_final=100"
   ]
  },
  {
   "cell_type": "markdown",
   "id": "f23f2927",
   "metadata": {},
   "source": [
    "### Full training"
   ]
  },
  {
   "cell_type": "code",
   "execution_count": 60,
   "id": "93aed3c2",
   "metadata": {},
   "outputs": [],
   "source": [
    "X_full = pd.concat([X_train, X_val])\n",
    "y_full = pd.concat([y_train, y_val])"
   ]
  },
  {
   "cell_type": "code",
   "execution_count": 61,
   "id": "7a247aa1",
   "metadata": {},
   "outputs": [
    {
     "data": {
      "text/plain": [
       "(316, 237, 79)"
      ]
     },
     "execution_count": 61,
     "metadata": {},
     "output_type": "execute_result"
    }
   ],
   "source": [
    "len(X_full), len(X_train), len(X_val)"
   ]
  },
  {
   "cell_type": "code",
   "execution_count": 62,
   "id": "5844a7c0",
   "metadata": {},
   "outputs": [
    {
     "name": "stdout",
     "output_type": "stream",
     "text": [
      "100 \t 1.9204618930253532 \t 0.0021165004593277914 \t 0.8809376438766542\n"
     ]
    }
   ],
   "source": [
    "w_0, w = train_linear_regression_reg(X_full, y_full, r_final)\n",
    "y_pred = w_0 + X_test.dot(w)\n",
    "print(r_final, \"\\t\", rmse(y_test, y_pred), \"\\t\", w_0, \"\\t\", w.max())"
   ]
  },
  {
   "cell_type": "code",
   "execution_count": 63,
   "id": "300673e1",
   "metadata": {},
   "outputs": [
    {
     "data": {
      "text/plain": [
       "<Axes: xlabel='g3', ylabel='Count'>"
      ]
     },
     "execution_count": 63,
     "metadata": {},
     "output_type": "execute_result"
    },
    {
     "data": {
      "image/png": "[encoded data removed]",
      "text/plain": [
       "<Figure size 640x480 with 1 Axes>"
      ]
     },
     "metadata": {},
     "output_type": "display_data"
    }
   ],
   "source": [
    "sns.histplot(y_test, bins=20)\n",
    "sns.histplot(y_pred, bins=20)"
   ]
  },
  {
   "cell_type": "code",
   "execution_count": 64,
   "id": "79870d4d",
   "metadata": {},
   "outputs": [
    {
     "data": {
      "text/html": [
       "<div>\n",
       "<style scoped>\n",
       "    .dataframe tbody tr th:only-of-type {\n",
       "        vertical-align: middle;\n",
       "    }\n",
       "\n",
       "    .dataframe tbody tr th {\n",
       "        vertical-align: top;\n",
       "    }\n",
       "\n",
       "    .dataframe thead th {\n",
       "        text-align: right;\n",
       "    }\n",
       "</style>\n",
       "<table border=\"1\" class=\"dataframe\">\n",
       "  <thead>\n",
       "    <tr style=\"text-align: right;\">\n",
       "      <th></th>\n",
       "      <th>school</th>\n",
       "      <th>sex</th>\n",
       "      <th>age</th>\n",
       "      <th>address</th>\n",
       "      <th>famsize</th>\n",
       "      <th>pstatus</th>\n",
       "      <th>medu</th>\n",
       "      <th>fedu</th>\n",
       "      <th>mjob</th>\n",
       "      <th>fjob</th>\n",
       "      <th>...</th>\n",
       "      <th>famrel</th>\n",
       "      <th>freetime</th>\n",
       "      <th>goout</th>\n",
       "      <th>dalc</th>\n",
       "      <th>walc</th>\n",
       "      <th>health</th>\n",
       "      <th>absences</th>\n",
       "      <th>g1</th>\n",
       "      <th>g2</th>\n",
       "      <th>g3</th>\n",
       "    </tr>\n",
       "  </thead>\n",
       "  <tbody>\n",
       "    <tr>\n",
       "      <th>10</th>\n",
       "      <td>gp</td>\n",
       "      <td>m</td>\n",
       "      <td>17</td>\n",
       "      <td>r</td>\n",
       "      <td>gt3</td>\n",
       "      <td>t</td>\n",
       "      <td>2</td>\n",
       "      <td>2</td>\n",
       "      <td>other</td>\n",
       "      <td>other</td>\n",
       "      <td>...</td>\n",
       "      <td>4</td>\n",
       "      <td>5</td>\n",
       "      <td>2</td>\n",
       "      <td>1</td>\n",
       "      <td>1</td>\n",
       "      <td>1</td>\n",
       "      <td>4</td>\n",
       "      <td>11</td>\n",
       "      <td>11</td>\n",
       "      <td>11</td>\n",
       "    </tr>\n",
       "  </tbody>\n",
       "</table>\n",
       "<p>1 rows × 33 columns</p>\n",
       "</div>"
      ],
      "text/plain": [
       "   school sex  age address famsize pstatus  medu  fedu   mjob   fjob  ...  \\\n",
       "10     gp   m   17       r     gt3       t     2     2  other  other  ...   \n",
       "\n",
       "   famrel freetime  goout  dalc  walc health absences  g1  g2  g3  \n",
       "10      4        5      2     1     1      1        4  11  11  11  \n",
       "\n",
       "[1 rows x 33 columns]"
      ]
     },
     "execution_count": 64,
     "metadata": {},
     "output_type": "execute_result"
    }
   ],
   "source": [
    "df_test.iloc[[10]]"
   ]
  },
  {
   "cell_type": "code",
   "execution_count": 68,
   "id": "38e37198",
   "metadata": {},
   "outputs": [
    {
     "data": {
      "text/plain": [
       "(40, 11, 7.359593743354723)"
      ]
     },
     "execution_count": 68,
     "metadata": {},
     "output_type": "execute_result"
    }
   ],
   "source": [
    "i = np.random.randint(len(X_test))\n",
    "y_t, X_t = prepare_X(df_test.iloc[[i]], True, True, True)\n",
    "i, y_t[i], w_0 + X_t.dot(w)[i]"
   ]
  }
 ],
 "metadata": {
  "kernelspec": {
   "display_name": "Python 3 (ipykernel)",
   "language": "python",
   "name": "python3"
  },
  "language_info": {
   "codemirror_mode": {
    "name": "ipython",
    "version": 3
   },
   "file_extension": ".py",
   "mimetype": "text/x-python",
   "name": "python",
   "nbconvert_exporter": "python",
   "pygments_lexer": "ipython3",
   "version": "3.11.5"
  }
 },
 "nbformat": 4,
 "nbformat_minor": 5
}
